{
 "cells": [
  {
   "cell_type": "code",
   "execution_count": 12,
   "id": "59bf2d1e",
   "metadata": {},
   "outputs": [
    {
     "name": "stdout",
     "output_type": "stream",
     "text": [
      "2\n",
      "[[ 1  2  3  4  5]\n",
      " [ 6  7  8  9 10]]\n"
     ]
    }
   ],
   "source": [
    "import numpy as np\n",
    "\n",
    "#an array is a list and can be accessed the same\n",
    "a_mul = np.array([[1, 2, 3, 4, 5], \n",
    "                    [6, 7, 8 , 9, 10]]) #(rows, colums, elements )\n",
    "print(np.ndim(a_mul)) #(depth)\n",
    "print(a_mul)"
   ]
  },
  {
   "cell_type": "code",
   "execution_count": 13,
   "id": "30ab98d1",
   "metadata": {},
   "outputs": [
    {
     "name": "stdout",
     "output_type": "stream",
     "text": [
      "<class 'numpy.ndarray'>\n"
     ]
    }
   ],
   "source": [
    "np.sum(a_mul) #sums all elements\n",
    "#np.arange(#start, #stop, #step)\n",
    "\n",
    "#data within array will take of type of object\n",
    "dict1 = {'d' : \"letter\", 'hello' : \"word\"}\n",
    "b_mul = np.array([[2, 4, 6, dict1], [10, 12, 14, 16]])\n",
    "print(type(b_mul)) #data becomes an object with dict1"
   ]
  },
  {
   "cell_type": "code",
   "execution_count": 14,
   "id": "d554d9bc",
   "metadata": {},
   "outputs": [
    {
     "data": {
      "text/html": [
       "<div>\n",
       "<style scoped>\n",
       "    .dataframe tbody tr th:only-of-type {\n",
       "        vertical-align: middle;\n",
       "    }\n",
       "\n",
       "    .dataframe tbody tr th {\n",
       "        vertical-align: top;\n",
       "    }\n",
       "\n",
       "    .dataframe thead th {\n",
       "        text-align: right;\n",
       "    }\n",
       "</style>\n",
       "<table border=\"1\" class=\"dataframe\">\n",
       "  <thead>\n",
       "    <tr style=\"text-align: right;\">\n",
       "      <th></th>\n",
       "      <th>color</th>\n",
       "      <th>radius</th>\n",
       "      <th>diameter</th>\n",
       "    </tr>\n",
       "  </thead>\n",
       "  <tbody>\n",
       "    <tr>\n",
       "      <th>0</th>\n",
       "      <td>blue</td>\n",
       "      <td>5</td>\n",
       "      <td>10</td>\n",
       "    </tr>\n",
       "    <tr>\n",
       "      <th>1</th>\n",
       "      <td>red</td>\n",
       "      <td>8</td>\n",
       "      <td>16</td>\n",
       "    </tr>\n",
       "  </tbody>\n",
       "</table>\n",
       "</div>"
      ],
      "text/plain": [
       "  color  radius  diameter\n",
       "0  blue       5        10\n",
       "1   red       8        16"
      ]
     },
     "execution_count": 14,
     "metadata": {},
     "output_type": "execute_result"
    }
   ],
   "source": [
    "\n",
    "import pandas as pd\n",
    "#creates a dataframe and adds datat\n",
    "df = pd.DataFrame()\n",
    "df['color'] = ['blue','red']\n",
    "df['radius'] = [5,8]\n",
    "df['diameter'] = df['radius'] * 2\n",
    "df #print result"
   ]
  },
  {
   "cell_type": "code",
   "execution_count": 15,
   "id": "aac719d3",
   "metadata": {},
   "outputs": [
    {
     "data": {
      "text/plain": [
       "0    10\n",
       "1    16\n",
       "Name: diameter, dtype: int64"
      ]
     },
     "execution_count": 15,
     "metadata": {},
     "output_type": "execute_result"
    }
   ],
   "source": [
    "df['diameter']"
   ]
  },
  {
   "cell_type": "code",
   "execution_count": 16,
   "id": "e7d9cd08",
   "metadata": {},
   "outputs": [
    {
     "data": {
      "text/plain": [
       "(2, 3)"
      ]
     },
     "execution_count": 16,
     "metadata": {},
     "output_type": "execute_result"
    }
   ],
   "source": [
    "df.iloc[1] #acceses a row\n",
    "df.index #row lables\n",
    "df.columns #column names\n",
    "df.shape # size (rows, columns)"
   ]
  },
  {
   "cell_type": "code",
   "execution_count": 17,
   "id": "50b484e2",
   "metadata": {},
   "outputs": [
    {
     "data": {
      "text/plain": [
       "2900"
      ]
     },
     "execution_count": 17,
     "metadata": {},
     "output_type": "execute_result"
    }
   ],
   "source": [
    "layers = pd.read_csv('earth-layers.csv')\n",
    "layers['thickness'].sum()\n",
    "layers['thickness'].mean()\n",
    "layers['thickness'].min()\n",
    "layers['thickness'].max()"
   ]
  },
  {
   "cell_type": "code",
   "execution_count": 18,
   "id": "15e3806a",
   "metadata": {},
   "outputs": [
    {
     "data": {
      "image/png": "[encoded data removed]",
      "text/plain": [
       "<Figure size 640x480 with 1 Axes>"
      ]
     },
     "metadata": {},
     "output_type": "display_data"
    }
   ],
   "source": [
    "import matplotlib.pyplot as plt\n",
    "x = [1,2,3,4,5,6,7,8]\n",
    "y = [1,8,1,8,1,8,1,9]\n",
    "plt.plot(x,y, color='purple')\n",
    "plt.show()\n",
    "\n",
    "\n",
    "\n"
   ]
  },
  {
   "cell_type": "code",
   "execution_count": 19,
   "id": "a8cc0900",
   "metadata": {},
   "outputs": [
    {
     "data": {
      "text/plain": [
       "Text(0.5, 1.0, 'Layers of the Earth')"
      ]
     },
     "execution_count": 19,
     "metadata": {},
     "output_type": "execute_result"
    },
    {
     "data": {
      "image/png": "[encoded data removed]",
      "text/plain": [
       "<Figure size 640x480 with 1 Axes>"
      ]
     },
     "metadata": {},
     "output_type": "display_data"
    }
   ],
   "source": [
    "import pandas as pd\n",
    "import matplotlib.pyplot as plt\n",
    "df = pd.read_csv('earth-layers.csv')\n",
    "x = df['layer']\n",
    "y = df['thickness']\n",
    "plt.bar(x,y, color='black')\n",
    "plt.ylabel('Thickness (km)')\n",
    "plt.title('Layers of the Earth')\n",
    "#key functions, bar(), plot(), scatter(), xlabel(), ylabel(), title()\n"
   ]
  },
  {
   "cell_type": "code",
   "execution_count": 20,
   "id": "587060fa",
   "metadata": {},
   "outputs": [
    {
     "data": {
      "text/html": [
       "<div>\n",
       "<style scoped>\n",
       "    .dataframe tbody tr th:only-of-type {\n",
       "        vertical-align: middle;\n",
       "    }\n",
       "\n",
       "    .dataframe tbody tr th {\n",
       "        vertical-align: top;\n",
       "    }\n",
       "\n",
       "    .dataframe thead th {\n",
       "        text-align: right;\n",
       "    }\n",
       "</style>\n",
       "<table border=\"1\" class=\"dataframe\">\n",
       "  <thead>\n",
       "    <tr style=\"text-align: right;\">\n",
       "      <th></th>\n",
       "      <th>color</th>\n",
       "      <th>base</th>\n",
       "      <th>height</th>\n",
       "      <th>area</th>\n",
       "    </tr>\n",
       "  </thead>\n",
       "  <tbody>\n",
       "    <tr>\n",
       "      <th>0</th>\n",
       "      <td>red</td>\n",
       "      <td>15</td>\n",
       "      <td>18</td>\n",
       "      <td>135.0</td>\n",
       "    </tr>\n",
       "    <tr>\n",
       "      <th>1</th>\n",
       "      <td>green</td>\n",
       "      <td>30</td>\n",
       "      <td>10</td>\n",
       "      <td>150.0</td>\n",
       "    </tr>\n",
       "    <tr>\n",
       "      <th>2</th>\n",
       "      <td>yellow</td>\n",
       "      <td>8</td>\n",
       "      <td>5</td>\n",
       "      <td>20.0</td>\n",
       "    </tr>\n",
       "    <tr>\n",
       "      <th>3</th>\n",
       "      <td>orange</td>\n",
       "      <td>12</td>\n",
       "      <td>22</td>\n",
       "      <td>132.0</td>\n",
       "    </tr>\n",
       "    <tr>\n",
       "      <th>4</th>\n",
       "      <td>blue</td>\n",
       "      <td>22</td>\n",
       "      <td>13</td>\n",
       "      <td>143.0</td>\n",
       "    </tr>\n",
       "  </tbody>\n",
       "</table>\n",
       "</div>"
      ],
      "text/plain": [
       "    color  base  height   area\n",
       "0     red    15      18  135.0\n",
       "1   green    30      10  150.0\n",
       "2  yellow     8       5   20.0\n",
       "3  orange    12      22  132.0\n",
       "4    blue    22      13  143.0"
      ]
     },
     "execution_count": 20,
     "metadata": {},
     "output_type": "execute_result"
    }
   ],
   "source": [
    "#key functions df.eval(), df.query(), df.groupsby()\n",
    "import pandas as pd\n",
    "df = pd.read_csv('right-triangles.csv')\n",
    "df['area'] = df.eval('0.5 * base * height')\n",
    "df\n",
    "\n",
    "\n"
   ]
  },
  {
   "cell_type": "code",
   "execution_count": null,
   "id": "b3716ba7",
   "metadata": {},
   "outputs": [
    {
     "data": {
      "text/html": [
       "<div>\n",
       "<style scoped>\n",
       "    .dataframe tbody tr th:only-of-type {\n",
       "        vertical-align: middle;\n",
       "    }\n",
       "\n",
       "    .dataframe tbody tr th {\n",
       "        vertical-align: top;\n",
       "    }\n",
       "\n",
       "    .dataframe thead th {\n",
       "        text-align: right;\n",
       "    }\n",
       "</style>\n",
       "<table border=\"1\" class=\"dataframe\">\n",
       "  <thead>\n",
       "    <tr style=\"text-align: right;\">\n",
       "      <th></th>\n",
       "      <th>Month</th>\n",
       "      <th>Days</th>\n",
       "      <th>Leap_days</th>\n",
       "    </tr>\n",
       "  </thead>\n",
       "  <tbody>\n",
       "    <tr>\n",
       "      <th>0</th>\n",
       "      <td>January</td>\n",
       "      <td>31</td>\n",
       "      <td>0.0</td>\n",
       "    </tr>\n",
       "    <tr>\n",
       "      <th>1</th>\n",
       "      <td>February</td>\n",
       "      <td>28</td>\n",
       "      <td>1.0</td>\n",
       "    </tr>\n",
       "    <tr>\n",
       "      <th>2</th>\n",
       "      <td>March</td>\n",
       "      <td>31</td>\n",
       "      <td>0.0</td>\n",
       "    </tr>\n",
       "    <tr>\n",
       "      <th>3</th>\n",
       "      <td>April</td>\n",
       "      <td>30</td>\n",
       "      <td>0.0</td>\n",
       "    </tr>\n",
       "    <tr>\n",
       "      <th>4</th>\n",
       "      <td>May</td>\n",
       "      <td>31</td>\n",
       "      <td>0.0</td>\n",
       "    </tr>\n",
       "    <tr>\n",
       "      <th>5</th>\n",
       "      <td>June</td>\n",
       "      <td>30</td>\n",
       "      <td>0.0</td>\n",
       "    </tr>\n",
       "    <tr>\n",
       "      <th>6</th>\n",
       "      <td>July</td>\n",
       "      <td>31</td>\n",
       "      <td>0.0</td>\n",
       "    </tr>\n",
       "    <tr>\n",
       "      <th>7</th>\n",
       "      <td>August</td>\n",
       "      <td>31</td>\n",
       "      <td>0.0</td>\n",
       "    </tr>\n",
       "    <tr>\n",
       "      <th>8</th>\n",
       "      <td>September</td>\n",
       "      <td>30</td>\n",
       "      <td>0.0</td>\n",
       "    </tr>\n",
       "    <tr>\n",
       "      <th>9</th>\n",
       "      <td>October</td>\n",
       "      <td>31</td>\n",
       "      <td>0.0</td>\n",
       "    </tr>\n",
       "    <tr>\n",
       "      <th>10</th>\n",
       "      <td>November</td>\n",
       "      <td>30</td>\n",
       "      <td>0.0</td>\n",
       "    </tr>\n",
       "    <tr>\n",
       "      <th>11</th>\n",
       "      <td>December</td>\n",
       "      <td>31</td>\n",
       "      <td>0.0</td>\n",
       "    </tr>\n",
       "  </tbody>\n",
       "</table>\n",
       "</div>"
      ],
      "text/plain": [
       "        Month  Days  Leap_days\n",
       "0     January    31        0.0\n",
       "1    February    28        1.0\n",
       "2       March    31        0.0\n",
       "3       April    30        0.0\n",
       "4         May    31        0.0\n",
       "5        June    30        0.0\n",
       "6        July    31        0.0\n",
       "7      August    31        0.0\n",
       "8   September    30        0.0\n",
       "9     October    31        0.0\n",
       "10   November    30        0.0\n",
       "11   December    31        0.0"
      ]
     },
     "execution_count": 21,
     "metadata": {},
     "output_type": "execute_result"
    }
   ],
   "source": [
    "#writing to file and clearning data\n",
    "import csv\n",
    "\n",
    "with open('days-per-month.csv', 'w', newline='') as csvfile:\n",
    "    writer = csv.writer(csvfile)\n",
    "    writer.writerow(['Month', 'Days', 'Leap_days'])\n",
    "    data = [\n",
    "        ['January', 31, ],\n",
    "        ['February', 28, 1],\n",
    "        ['March', 31, ],\n",
    "        ['April', 30, ],\n",
    "        ['May', 31, ],\n",
    "        ['June', 30],\n",
    "        ['July', 31],\n",
    "        ['August', 31],\n",
    "        ['September', 30],\n",
    "        ['October', 31],\n",
    "        ['November', 30],\n",
    "        ['December', 31]\n",
    "    ]\n",
    "    writer.writerows(data)\n",
    "\n",
    "\n",
    "df_= pd.read_csv('days-per-month.csv')\n",
    "months = df_.fillna(0)\n",
    "months\n"
   ]
  },
  {
   "cell_type": "code",
   "execution_count": null,
   "id": "9ca495d5",
   "metadata": {},
   "outputs": [
    {
     "data": {
      "text/html": [
       "<div>\n",
       "<style scoped>\n",
       "    .dataframe tbody tr th:only-of-type {\n",
       "        vertical-align: middle;\n",
       "    }\n",
       "\n",
       "    .dataframe tbody tr th {\n",
       "        vertical-align: top;\n",
       "    }\n",
       "\n",
       "    .dataframe thead th {\n",
       "        text-align: right;\n",
       "    }\n",
       "</style>\n",
       "<table border=\"1\" class=\"dataframe\">\n",
       "  <thead>\n",
       "    <tr style=\"text-align: right;\">\n",
       "      <th></th>\n",
       "      <th>Month</th>\n",
       "      <th>Days</th>\n",
       "      <th>Leap_days</th>\n",
       "    </tr>\n",
       "  </thead>\n",
       "  <tbody>\n",
       "    <tr>\n",
       "      <th>1</th>\n",
       "      <td>February</td>\n",
       "      <td>28</td>\n",
       "      <td>1.0</td>\n",
       "    </tr>\n",
       "  </tbody>\n",
       "</table>\n",
       "</div>"
      ],
      "text/plain": [
       "      Month  Days  Leap_days\n",
       "1  February    28        1.0"
      ]
     },
     "execution_count": 26,
     "metadata": {},
     "output_type": "execute_result"
    }
   ],
   "source": [
    "#df. query()\n",
    "months.query('Days > 30')\n",
    "months.query('Days == Days.min()')"
   ]
  },
  {
   "cell_type": "code",
   "execution_count": 41,
   "id": "7948380d",
   "metadata": {},
   "outputs": [
    {
     "data": {
      "text/html": [
       "<div>\n",
       "<style scoped>\n",
       "    .dataframe tbody tr th:only-of-type {\n",
       "        vertical-align: middle;\n",
       "    }\n",
       "\n",
       "    .dataframe tbody tr th {\n",
       "        vertical-align: top;\n",
       "    }\n",
       "\n",
       "    .dataframe thead th {\n",
       "        text-align: right;\n",
       "    }\n",
       "</style>\n",
       "<table border=\"1\" class=\"dataframe\">\n",
       "  <thead>\n",
       "    <tr style=\"text-align: right;\">\n",
       "      <th></th>\n",
       "      <th>fruit</th>\n",
       "      <th>weight</th>\n",
       "    </tr>\n",
       "  </thead>\n",
       "  <tbody>\n",
       "    <tr>\n",
       "      <th>0</th>\n",
       "      <td>banana</td>\n",
       "      <td>124.33</td>\n",
       "    </tr>\n",
       "    <tr>\n",
       "      <th>1</th>\n",
       "      <td>pineapple</td>\n",
       "      <td>850.00</td>\n",
       "    </tr>\n",
       "    <tr>\n",
       "      <th>2</th>\n",
       "      <td>strawberry</td>\n",
       "      <td>11.40</td>\n",
       "    </tr>\n",
       "  </tbody>\n",
       "</table>\n",
       "</div>"
      ],
      "text/plain": [
       "        fruit  weight\n",
       "0      banana  124.33\n",
       "1   pineapple  850.00\n",
       "2  strawberry   11.40"
      ]
     },
     "execution_count": 41,
     "metadata": {},
     "output_type": "execute_result"
    }
   ],
   "source": [
    "#df.groupby()\n",
    "\n",
    "with open('fruits-weights.csv', 'w', newline='') as csvfile:\n",
    "    writer = csv.writer(csvfile)\n",
    "\n",
    "    header = ['fruit', 'weight']\n",
    "    writer.writerow(header)\n",
    "\n",
    "    data = [\n",
    "        ['strawberry', 10],\n",
    "        ['banana', 118],\n",
    "        ['pineapple', 800],\n",
    "        ['strawberry', 11],\n",
    "        ['strawberry', 12],\n",
    "        ['pineapple', 900],\n",
    "        ['banana', 124],\n",
    "        ['strawberry', 13],\n",
    "        ['strawberry', 11],\n",
    "        ['banana', 131]\n",
    "    ]\n",
    "\n",
    "    writer.writerows(data)\n",
    "df = pd.read_csv('fruits-weights.csv')\n",
    "\n",
    "groups = df.groupby('fruit') #creates an object to fun fuctions on\n",
    "groups['weight'].mean().round(2)\n",
    "\n",
    "#converting object to df\n",
    "series = groups['weight'].mean().round(2)\n",
    "series.reset_index()\n",
    "\n",
    "\n",
    "\n",
    "\n",
    "\n"
   ]
  },
  {
   "cell_type": "code",
   "execution_count": 49,
   "id": "a5e8230c",
   "metadata": {},
   "outputs": [
    {
     "data": {
      "text/html": [
       "<div>\n",
       "<style scoped>\n",
       "    .dataframe tbody tr th:only-of-type {\n",
       "        vertical-align: middle;\n",
       "    }\n",
       "\n",
       "    .dataframe tbody tr th {\n",
       "        vertical-align: top;\n",
       "    }\n",
       "\n",
       "    .dataframe thead th {\n",
       "        text-align: right;\n",
       "    }\n",
       "</style>\n",
       "<table border=\"1\" class=\"dataframe\">\n",
       "  <thead>\n",
       "    <tr style=\"text-align: right;\">\n",
       "      <th></th>\n",
       "      <th>language</th>\n",
       "      <th>first_release</th>\n",
       "      <th>exec_type</th>\n",
       "      <th>age</th>\n",
       "    </tr>\n",
       "  </thead>\n",
       "  <tbody>\n",
       "    <tr>\n",
       "      <th>0</th>\n",
       "      <td>Python</td>\n",
       "      <td>1991</td>\n",
       "      <td>NaN</td>\n",
       "      <td>34</td>\n",
       "    </tr>\n",
       "    <tr>\n",
       "      <th>1</th>\n",
       "      <td>HTML</td>\n",
       "      <td>1993</td>\n",
       "      <td>NaN</td>\n",
       "      <td>32</td>\n",
       "    </tr>\n",
       "    <tr>\n",
       "      <th>2</th>\n",
       "      <td>JavaScript</td>\n",
       "      <td>1995</td>\n",
       "      <td>NaN</td>\n",
       "      <td>30</td>\n",
       "    </tr>\n",
       "    <tr>\n",
       "      <th>3</th>\n",
       "      <td>PHP</td>\n",
       "      <td>1995</td>\n",
       "      <td>NaN</td>\n",
       "      <td>30</td>\n",
       "    </tr>\n",
       "    <tr>\n",
       "      <th>4</th>\n",
       "      <td>Java</td>\n",
       "      <td>1995</td>\n",
       "      <td>NaN</td>\n",
       "      <td>30</td>\n",
       "    </tr>\n",
       "    <tr>\n",
       "      <th>5</th>\n",
       "      <td>CSS</td>\n",
       "      <td>1996</td>\n",
       "      <td>NaN</td>\n",
       "      <td>29</td>\n",
       "    </tr>\n",
       "    <tr>\n",
       "      <th>6</th>\n",
       "      <td>Golang</td>\n",
       "      <td>2009</td>\n",
       "      <td>NaN</td>\n",
       "      <td>16</td>\n",
       "    </tr>\n",
       "    <tr>\n",
       "      <th>7</th>\n",
       "      <td>TypeScript</td>\n",
       "      <td>2012</td>\n",
       "      <td>NaN</td>\n",
       "      <td>13</td>\n",
       "    </tr>\n",
       "    <tr>\n",
       "      <th>8</th>\n",
       "      <td>WebAssembly</td>\n",
       "      <td>2017</td>\n",
       "      <td>NaN</td>\n",
       "      <td>8</td>\n",
       "    </tr>\n",
       "  </tbody>\n",
       "</table>\n",
       "</div>"
      ],
      "text/plain": [
       "      language  first_release  exec_type  age\n",
       "0       Python           1991        NaN   34\n",
       "1         HTML           1993        NaN   32\n",
       "2   JavaScript           1995        NaN   30\n",
       "3          PHP           1995        NaN   30\n",
       "4         Java           1995        NaN   30\n",
       "5          CSS           1996        NaN   29\n",
       "6       Golang           2009        NaN   16\n",
       "7   TypeScript           2012        NaN   13\n",
       "8  WebAssembly           2017        NaN    8"
      ]
     },
     "execution_count": 49,
     "metadata": {},
     "output_type": "execute_result"
    }
   ],
   "source": [
    "#practice\n",
    "\n",
    "with open('web-dev-languages.csv','w', newline='') as csvfile:\n",
    "    writer = csv.DictWriter(csvfile, fieldnames=header)\n",
    "\n",
    "    header = ['language', 'first_release', 'exec_type']\n",
    "    writer.writeheader()\n",
    "\n",
    "    dictionary = [\n",
    "        {'language' : 'Python', 'first_release' : 1991},\n",
    "        {'language' : 'HTML', 'first_release' : 1993},\n",
    "        {'language' : 'JavaScript', 'first_release' : 1995},\n",
    "        {'language' : 'PHP', 'first_release' : 1995},\n",
    "        {'language' : 'Java', 'first_release' : 1995},\n",
    "        {'language' : 'CSS', 'first_release' : 1996},\n",
    "        {'language' : 'Golang', 'first_release' : 2009},\n",
    "        {'language' : 'TypeScript', 'first_release' : 2012},\n",
    "        {'language' : 'WebAssembly', 'first_release' : 2017},\n",
    "    ]\n",
    "\n",
    "    writer.writerows(dictionary)\n",
    "\n",
    "\n",
    "df = pd.read_csv('web-dev-languages.csv')\n",
    "df['age'] = df.eval('2025 - first_release')\n",
    "df"
   ]
  },
  {
   "cell_type": "code",
   "execution_count": 50,
   "id": "6942035e",
   "metadata": {},
   "outputs": [],
   "source": [
    "#practice2\n",
    "\n",
    "with open('fastest-animals.csv', 'w', newline='') as csvfile:\n",
    "    writer = csv.writer(csvfile)\n",
    "\n",
    "    header = (['animal', ])"
   ]
  }
 ],
 "metadata": {
  "kernelspec": {
   "display_name": "jupyter",
   "language": "python",
   "name": "python3"
  },
  "language_info": {
   "codemirror_mode": {
    "name": "ipython",
    "version": 3
   },
   "file_extension": ".py",
   "mimetype": "text/x-python",
   "name": "python",
   "nbconvert_exporter": "python",
   "pygments_lexer": "ipython3",
   "version": "3.11.13"
  }
 },
 "nbformat": 4,
 "nbformat_minor": 5
}
